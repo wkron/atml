{
  "cells": [
    {
      "cell_type": "markdown",
      "metadata": {
        "id": "0gptEv_UkLPf"
      },
      "source": [
        "# Code template for hand-in on reconstruction attacks.\n",
        "\n",
        "Advanced Topics in Machine Learning, U. Copenhagen, fall 2024\n",
        "\n",
        "Created by Rasmus Pagh with minor edits by Thomas Christensen\n",
        "\n",
        "Queries on a hidden dataset x from {-1,+1}^100 can be made via the query method below\n",
        "which calls a web API that allows dot product queries with vectors in {-1,+1}^100.\n",
        "To protect data, Laplace noise is added to responses. Using the techniques you have\n",
        "seen in the lecture it is possible to partially reconstruct the dataset using 200 queries.\n",
        "To make sure that you get a unique challenge, choose any unique string as your challenge\n",
        "identifier. The web API will keep track of the number of queries made for each identifier."
      ]
    },
    {
      "cell_type": "markdown",
      "metadata": {
        "id": "dyLpL0gdnquz"
      },
      "source": [
        "# Support function for querying the web API"
      ]
    },
    {
      "cell_type": "code",
      "execution_count": 2,
      "metadata": {
        "id": "L1Mb8xGZkTPO"
      },
      "outputs": [],
      "source": [
        "import numpy as np\n",
        "import requests as rq\n",
        "\n",
        "# Retrieve answer to challenge for a given query\n",
        "def query(challenge_id, query_vector, submit=False):\n",
        "    # Only alphanumeric challenge_id and vextor entries in {-1,+1} are allowed:\n",
        "    assert(challenge_id.isalnum())\n",
        "    assert(np.max(np.minimum(np.abs(query_vector-1),np.abs(query_vector+1)))==0)\n",
        "\n",
        "    # if query array is 1d, make it 2d\n",
        "    if query_vector.ndim == 1:\n",
        "        query_vector = query_vector.reshape(1,-1)\n",
        "\n",
        "    payload = { 'challengeid': challenge_id, 'submit': submit,\n",
        "                'query': str(query_vector.tolist()) }\n",
        "    response = rq.post(\"https://baconbreaker.pythonanywhere.com/query\", data = payload).json()\n",
        "    if submit == False:\n",
        "        return np.array(eval(response['result']))\n",
        "    else:\n",
        "        return response['result']"
      ]
    },
    {
      "cell_type": "markdown",
      "metadata": {
        "id": "mgh9MtPmnyEl"
      },
      "source": [
        "# Making random queries to the API"
      ]
    },
    {
      "cell_type": "code",
      "execution_count": 130,
      "metadata": {},
      "outputs": [
        {
          "data": {
            "text/plain": [
              "array([[ 1,  1, -1, ...,  1, -1, -1],\n",
              "       [-1, -1, -1, ..., -1, -1, -1],\n",
              "       [-1,  1, -1, ..., -1,  1, -1],\n",
              "       ...,\n",
              "       [-1,  1,  1, ..., -1, -1, -1],\n",
              "       [ 1,  1,  1, ..., -1,  1,  1],\n",
              "       [-1,  1, -1, ..., -1,  1, -1]])"
            ]
          },
          "execution_count": 130,
          "metadata": {},
          "output_type": "execute_result"
        }
      ],
      "source": [
        "queries"
      ]
    },
    {
      "cell_type": "code",
      "execution_count": 134,
      "metadata": {
        "colab": {
          "base_uri": "https://localhost:8080/"
        },
        "id": "rACAhWmE9zkq",
        "outputId": "56510295-5822-4d72-a4ff-0fa5f90de0eb"
      },
      "outputs": [],
      "source": [
        "challenge_id = 'aalgisrugoribn' # identifier for hidden dataset\n",
        "n = 100 # number of entries in hidden dataset\n",
        "num_queries = 2*n # number of queries to be asked\n",
        "queries = np.random.choice([-1,+1], size=(num_queries,n)) # Set of random queries\n",
        "query_results = query(challenge_id, queries)"
      ]
    },
    {
      "cell_type": "markdown",
      "metadata": {
        "id": "uiUoCqxtknZj"
      },
      "source": [
        "# Baseline reconstruction attack: Guess equals the best query\n",
        "\n",
        "Copy the notebook and replace with your attack. The first submission for a given challenge_id is stored on the server and on the leaderboard: http://baconbreaker.pythonanywhere.com/leaderboard/?n=100"
      ]
    },
    {
      "cell_type": "markdown",
      "metadata": {
        "id": "wBzhULS8lfJf"
      },
      "source": [
        "**Tip**: to solve a linear program you can use the following import:\n",
        "\n",
        "```\n",
        "from scipy.optimize import linprog\n",
        "```\n",
        "\n"
      ]
    },
    {
      "cell_type": "code",
      "execution_count": 135,
      "metadata": {
        "colab": {
          "base_uri": "https://localhost:8080/"
        },
        "id": "KNEVYeK5klgu",
        "outputId": "28db8286-ea7e-45a1-cefd-b70c3f77ac34"
      },
      "outputs": [
        {
          "name": "stdout",
          "output_type": "stream",
          "text": [
            "\n",
            "Reconstruction attack achieves fraction [0.895] correct values\n"
          ]
        }
      ],
      "source": [
        "result_vector = np.where(queries.T @ query_results > 0, 1, -1)\n",
        "query_result = query(challenge_id, result_vector, submit=False)\n",
        "print(f\"\\nReconstruction attack achieves fraction {(1 + query_result / n) / 2} correct values\")"
      ]
    },
    {
      "cell_type": "code",
      "execution_count": 152,
      "metadata": {},
      "outputs": [
        {
          "name": "stdout",
          "output_type": "stream",
          "text": [
            "\n",
            "Reconstruction attack achieves fraction [0.775] correct values\n",
            "\n",
            "Reconstruction attack achieves fraction [0.855] correct values\n",
            "\n",
            "Reconstruction attack achieves fraction [0.62] correct values\n",
            "\n",
            "Reconstruction attack achieves fraction [0.71] correct values\n",
            "\n",
            "Reconstruction attack achieves fraction [0.835] correct values\n",
            "\n",
            "Reconstruction attack achieves fraction [0.805] correct values\n",
            "\n",
            "Reconstruction attack achieves fraction [0.76] correct values\n",
            "\n",
            "Reconstruction attack achieves fraction [0.705] correct values\n",
            "\n",
            "Reconstruction attack achieves fraction [0.895] correct values\n",
            "\n",
            "Reconstruction attack achieves fraction [0.88] correct values\n",
            "\n",
            "Reconstruction attack achieves fraction [0.83] correct values\n",
            "\n",
            "Reconstruction attack achieves fraction [0.755] correct values\n",
            "\n",
            "Reconstruction attack achieves fraction [0.785] correct values\n",
            "\n",
            "Reconstruction attack achieves fraction [0.78] correct values\n",
            "\n",
            "Reconstruction attack achieves fraction [0.93] correct values\n",
            "\n",
            "Reconstruction attack achieves fraction [0.795] correct values\n",
            "\n",
            "Reconstruction attack achieves fraction [0.83] correct values\n",
            "\n",
            "Reconstruction attack achieves fraction [0.82] correct values\n",
            "\n",
            "Reconstruction attack achieves fraction [0.8] correct values\n",
            "\n",
            "Reconstruction attack achieves fraction [0.845] correct values\n",
            "\n",
            "Reconstruction attack achieves fraction [0.835] correct values\n",
            "\n",
            "Reconstruction attack achieves fraction [0.77] correct values\n",
            "\n",
            "Reconstruction attack achieves fraction [0.745] correct values\n",
            "\n",
            "Reconstruction attack achieves fraction [0.815] correct values\n",
            "\n",
            "Reconstruction attack achieves fraction [0.705] correct values\n",
            "\n",
            "Reconstruction attack achieves fraction [0.85] correct values\n",
            "\n",
            "Reconstruction attack achieves fraction [0.765] correct values\n",
            "\n",
            "Reconstruction attack achieves fraction [0.825] correct values\n",
            "\n",
            "Reconstruction attack achieves fraction [0.92] correct values\n",
            "\n",
            "Reconstruction attack achieves fraction [0.835] correct values\n",
            "\n",
            "Reconstruction attack achieves fraction [0.725] correct values\n",
            "\n",
            "Reconstruction attack achieves fraction [0.75] correct values\n",
            "\n",
            "Reconstruction attack achieves fraction [0.95] correct values\n",
            "\n",
            "Reconstruction attack achieves fraction [0.815] correct values\n",
            "\n",
            "Reconstruction attack achieves fraction [0.77] correct values\n",
            "\n",
            "Reconstruction attack achieves fraction [0.785] correct values\n",
            "\n",
            "Reconstruction attack achieves fraction [0.77] correct values\n",
            "\n",
            "Reconstruction attack achieves fraction [0.76] correct values\n",
            "\n",
            "Reconstruction attack achieves fraction [0.835] correct values\n",
            "\n",
            "Reconstruction attack achieves fraction [0.79] correct values\n",
            "\n",
            "Reconstruction attack achieves fraction [0.77] correct values\n",
            "\n",
            "Reconstruction attack achieves fraction [0.82] correct values\n",
            "\n",
            "Reconstruction attack achieves fraction [0.77] correct values\n",
            "\n",
            "Reconstruction attack achieves fraction [0.825] correct values\n",
            "\n",
            "Reconstruction attack achieves fraction [0.75] correct values\n",
            "\n",
            "Reconstruction attack achieves fraction [0.835] correct values\n",
            "\n",
            "Reconstruction attack achieves fraction [0.915] correct values\n",
            "\n",
            "Reconstruction attack achieves fraction [0.65] correct values\n",
            "\n",
            "Reconstruction attack achieves fraction [0.68] correct values\n",
            "\n",
            "Reconstruction attack achieves fraction [0.76] correct values\n"
          ]
        },
        {
          "data": {
            "text/plain": [
              "0.7959999999999999"
            ]
          },
          "execution_count": 152,
          "metadata": {},
          "output_type": "execute_result"
        }
      ],
      "source": [
        "res = [0] * 50\n",
        "for j in range(50):\n",
        "    challenge_id = 'salskdjg' + str(j) # identifier for hidden dataset\n",
        "    n = 100 # number of entries in hidden dataset\n",
        "    num_queries = 2*n # number of queries to be asked\n",
        "\n",
        "    queries = np.random.choice([-1,+1], size=(num_queries,n)) # Set of random queries\n",
        "    query_results = query(challenge_id, queries)\n",
        "    dot_product_query = np.where(queries.T @ (query_results) > 0, 1, -1)\n",
        "    query_result = query(challenge_id, dot_product_query, submit=False)\n",
        "    print(f\"\\nReconstruction attack achieves fraction {(1 + query_result / n) / 2} correct values\")\n",
        "    res[j] = float((1 + query_result / n) / 2)\n",
        "np.mean(res)"
      ]
    },
    {
      "cell_type": "code",
      "execution_count": 154,
      "metadata": {},
      "outputs": [
        {
          "name": "stdout",
          "output_type": "stream",
          "text": [
            "The algorithm reconstrucs on average fraction 0.7959999999999999 correct values with a standard deviation of 0.0667682559304944 .\n"
          ]
        }
      ],
      "source": [
        "print(f\"The algorithm reconstrucs on average fraction {np.mean(res)} correct values with a standard deviation of {np.std(res)} .\")"
      ]
    },
    {
      "cell_type": "code",
      "execution_count": 155,
      "metadata": {},
      "outputs": [
        {
          "data": {
            "text/plain": [
              "(array([ 2.,  1.,  3.,  4., 12.,  8., 13.,  2.,  2.,  3.]),\n",
              " array([0.62 , 0.653, 0.686, 0.719, 0.752, 0.785, 0.818, 0.851, 0.884,\n",
              "        0.917, 0.95 ]),\n",
              " <BarContainer object of 10 artists>)"
            ]
          },
          "execution_count": 155,
          "metadata": {},
          "output_type": "execute_result"
        },
        {
          "data": {
            "image/png": "[encoded data removed]",
            "text/plain": [
              "<Figure size 640x480 with 1 Axes>"
            ]
          },
          "metadata": {},
          "output_type": "display_data"
        }
      ],
      "source": [
        "from matplotlib.pyplot import hist\n",
        "hist(res)"
      ]
    }
  ],
  "metadata": {
    "colab": {
      "provenance": []
    },
    "kernelspec": {
      "display_name": "Python 3",
      "name": "python3"
    },
    "language_info": {
      "codemirror_mode": {
        "name": "ipython",
        "version": 3
      },
      "file_extension": ".py",
      "mimetype": "text/x-python",
      "name": "python",
      "nbconvert_exporter": "python",
      "pygments_lexer": "ipython3",
      "version": "3.9.16"
    }
  },
  "nbformat": 4,
  "nbformat_minor": 0
}
